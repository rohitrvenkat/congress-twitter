{
 "cells": [
  {
   "cell_type": "code",
   "execution_count": 1,
   "id": "seventh-illustration",
   "metadata": {},
   "outputs": [],
   "source": [
    "# Import libraries\n",
    "import requests\n",
    "from bs4 import BeautifulSoup\n",
    "import unidecode as uni\n",
    "import re\n",
    "import pandas as pd"
   ]
  },
  {
   "cell_type": "code",
   "execution_count": 2,
   "id": "solved-peeing",
   "metadata": {},
   "outputs": [],
   "source": [
    "# Fetch and scrape 115th congress wiki\n",
    "page = requests.get('https://en.wikipedia.org/wiki/115th_United_States_Congress')\n",
    "soup = BeautifulSoup(page.content, 'html.parser')\n",
    "results = soup.find_all('table', class_ = 'multicol')\n",
    "congress115 = re.findall('title\\=.*\\>(\\w.*)\\<\\/a\\> \\((\\w*)\\)', uni.unidecode(str(results[0:2])))"
   ]
  },
  {
   "cell_type": "code",
   "execution_count": 3,
   "id": "available-sample",
   "metadata": {},
   "outputs": [],
   "source": [
    "# Fetch and scrape 116th congress wiki\n",
    "page = requests.get('https://en.wikipedia.org/wiki/116th_United_States_Congress')\n",
    "soup = BeautifulSoup(page.content.decode('utf-8', 'ignore'), 'html.parser')\n",
    "results = soup.find_all('table', class_ = 'multicol')\n",
    "congress116 = re.findall('title\\=.*\\>(\\w.*)\\<\\/a\\> \\((\\w*)\\)', uni.unidecode(str(results[0:2])))"
   ]
  },
  {
   "cell_type": "code",
   "execution_count": 4,
   "id": "broad-heritage",
   "metadata": {},
   "outputs": [],
   "source": [
    "# Create dataframe to store member and party info\n",
    "congress = pd.DataFrame(data = congress115 + congress116, columns = ['full_name', 'party'])"
   ]
  },
  {
   "cell_type": "code",
   "execution_count": 5,
   "id": "prompt-monkey",
   "metadata": {},
   "outputs": [],
   "source": [
    "# Remove name suffixes \n",
    "regex = re.compile(r'(| Jr.| III)')\n",
    "name = congress['full_name'].apply(lambda x: regex.sub('', x))"
   ]
  },
  {
   "cell_type": "code",
   "execution_count": 6,
   "id": "tutorial-louisiana",
   "metadata": {},
   "outputs": [],
   "source": [
    "# Parse first and last names\n",
    "congress['first_name'] = name.apply(lambda x: x.lower().split(' ')[0])\n",
    "congress['last_name'] = name.apply(lambda x: x.lower().split(' ')[-1])"
   ]
  },
  {
   "cell_type": "code",
   "execution_count": 7,
   "id": "fatal-taste",
   "metadata": {},
   "outputs": [],
   "source": [
    "# Change 'DFL' to 'D'\n",
    "congress['party'] = congress['party'].apply(lambda x: x.replace('DFL', 'D'))"
   ]
  },
  {
   "cell_type": "code",
   "execution_count": 8,
   "id": "781b8c41",
   "metadata": {},
   "outputs": [
    {
     "data": {
      "text/html": [
       "<div>\n",
       "<style scoped>\n",
       "    .dataframe tbody tr th:only-of-type {\n",
       "        vertical-align: middle;\n",
       "    }\n",
       "\n",
       "    .dataframe tbody tr th {\n",
       "        vertical-align: top;\n",
       "    }\n",
       "\n",
       "    .dataframe thead th {\n",
       "        text-align: right;\n",
       "    }\n",
       "</style>\n",
       "<table border=\"1\" class=\"dataframe\">\n",
       "  <thead>\n",
       "    <tr style=\"text-align: right;\">\n",
       "      <th></th>\n",
       "      <th>full_name</th>\n",
       "      <th>party</th>\n",
       "      <th>first_name</th>\n",
       "      <th>last_name</th>\n",
       "    </tr>\n",
       "  </thead>\n",
       "  <tbody>\n",
       "    <tr>\n",
       "      <th>39</th>\n",
       "      <td>Angus King</td>\n",
       "      <td>I</td>\n",
       "      <td>angus</td>\n",
       "      <td>king</td>\n",
       "    </tr>\n",
       "    <tr>\n",
       "      <th>92</th>\n",
       "      <td>Bernie Sanders</td>\n",
       "      <td>I</td>\n",
       "      <td>bernie</td>\n",
       "      <td>sanders</td>\n",
       "    </tr>\n",
       "    <tr>\n",
       "      <th>557</th>\n",
       "      <td>Gregorio Sablan</td>\n",
       "      <td>I</td>\n",
       "      <td>gregorio</td>\n",
       "      <td>sablan</td>\n",
       "    </tr>\n",
       "    <tr>\n",
       "      <th>597</th>\n",
       "      <td>Angus King</td>\n",
       "      <td>I</td>\n",
       "      <td>angus</td>\n",
       "      <td>king</td>\n",
       "    </tr>\n",
       "    <tr>\n",
       "      <th>649</th>\n",
       "      <td>Bernie Sanders</td>\n",
       "      <td>ID</td>\n",
       "      <td>bernie</td>\n",
       "      <td>sanders</td>\n",
       "    </tr>\n",
       "    <tr>\n",
       "      <th>1103</th>\n",
       "      <td>Gregorio Sablan</td>\n",
       "      <td>I</td>\n",
       "      <td>gregorio</td>\n",
       "      <td>sablan</td>\n",
       "    </tr>\n",
       "  </tbody>\n",
       "</table>\n",
       "</div>"
      ],
      "text/plain": [
       "            full_name party first_name last_name\n",
       "39         Angus King     I      angus      king\n",
       "92     Bernie Sanders     I     bernie   sanders\n",
       "557   Gregorio Sablan     I   gregorio    sablan\n",
       "597        Angus King     I      angus      king\n",
       "649    Bernie Sanders    ID     bernie   sanders\n",
       "1103  Gregorio Sablan     I   gregorio    sablan"
      ]
     },
     "execution_count": 8,
     "metadata": {},
     "output_type": "execute_result"
    }
   ],
   "source": [
    "# View members not affiliated with 'D' or 'R'\n",
    "congress.loc[~congress['party'].isin(['D','R'])]"
   ]
  },
  {
   "cell_type": "code",
   "execution_count": 9,
   "id": "aging-preparation",
   "metadata": {},
   "outputs": [],
   "source": [
    "# Change 'I'/'ID' to 'D' since these members caucus with democrats\n",
    "congress.loc[~congress['party'].isin(['D','R']), 'party'] = 'D'"
   ]
  },
  {
   "cell_type": "code",
   "execution_count": 10,
   "id": "round-market",
   "metadata": {},
   "outputs": [],
   "source": [
    "# Drop duplicates and save as csv\n",
    "congress = congress.drop_duplicates()\n",
    "congress.to_csv(\"../data/congress-wikiscrape.csv\", index = False)"
   ]
  }
 ],
 "metadata": {
  "kernelspec": {
   "display_name": "twitter",
   "language": "python",
   "name": "twitter"
  },
  "language_info": {
   "codemirror_mode": {
    "name": "ipython",
    "version": 3
   },
   "file_extension": ".py",
   "mimetype": "text/x-python",
   "name": "python",
   "nbconvert_exporter": "python",
   "pygments_lexer": "ipython3",
   "version": "3.7.11"
  }
 },
 "nbformat": 4,
 "nbformat_minor": 5
}
